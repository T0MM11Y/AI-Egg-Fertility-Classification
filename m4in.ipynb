{
  "cells": [
    {
      "cell_type": "markdown",
      "metadata": {
        "id": "3UB1Et6GS7J3"
      },
      "source": [
        "# 📌 : Klasifikasi Telur Ayam **Fertile** dan **Infertile** Menggunakan CNN (TensorFlow)\n",
        "\n",
        "## *Deskripsi:*\n",
        "\n",
        "Notebook ini membangun model klasifikasi biner menggunakan Convolutional Neural Network (CNN) untuk mendeteksi telur ayam fertile dan infertile berdasarkan citra. Dataset sudah mencakup augmentasi dan dibagi ke dalam data train, validasi, dan test.\n",
        "\n",
        "**[Source Dataset](https://universe.roboflow.com/eggs-i8jui/egggs3/dataset/1)** ❔\n",
        "\n",
        "---\n",
        "\n",
        "## Penjelasan Augmentasi Dataset yang Digunakan\n",
        "\n",
        "Dataset yang digunakan dalam notebook ini sudah dilengkapi dengan augmentasi data bawaan, sehingga tidak perlu menambahkan augmentasi lagi di tahap preprocessing. Augmentasi ini melibatkan teknik-teknik berikut untuk memperkaya variasi data dan mencegah overfitting pada model:\n",
        "\n",
        "1. **Auto-Orient**: Menerapkan orientasi otomatis pada gambar jika diperlukan.\n",
        "   \n",
        "2. **Resize**: Mengubah ukuran gambar menjadi 640x640 piksel.\n",
        "\n",
        "3. **Augmentasi pada Citra**:\n",
        "    - **Crop**: 0% Minimum Zoom dan 20% Maximum Zoom (untuk pemotongan acak).\n",
        "    - **Rotasi**: Gambar dapat diputar antara -15° hingga +15°.\n",
        "    - **Shear**: Pergeseran horizontal dan vertikal hingga ±10°.\n",
        "\n",
        "4. **Bounding Box**:\n",
        "    - **Crop**: 0% Minimum Zoom dan 20% Maximum Zoom pada Bounding Box.\n",
        "    - **Rotasi**: Rotasi gambar di dalam Bounding Box antara -10° hingga +10°.\n",
        "    - **Shear**: Pergeseran Bounding Box horizontal dan vertikal hingga ±5°.\n",
        "\n",
        "Augmentasi ini dilakukan untuk memastikan bahwa model dapat belajar dari data yang lebih beragam dan lebih kuat terhadap variasi di dunia nyata, seperti rotasi, zoom, atau pergeseran objek dalam gambar.\n",
        "\n",
        "Untuk tahap preprocessing di notebook ini, hanya dilakukan normalisasi pada data citra dengan mengatur `rescale=1./255`, yang akan mengubah nilai pixel gambar agar berada di rentang [0, 1].\n"
      ]
    },
    {
      "cell_type": "code",
      "execution_count": 2,
      "metadata": {
        "colab": {
          "base_uri": "https://localhost:8080/"
        },
        "id": "zI91BACXWxQ_",
        "outputId": "469db1c4-5965-4149-cbed-85bf4b869bda"
      },
      "outputs": [
        {
          "name": "stdout",
          "output_type": "stream",
          "text": [
            "./dataset\n",
            "├── test\n",
            "│   ├── fertile\n",
            "│   └── unfertile\n",
            "├── train\n",
            "│   ├── fertile\n",
            "│   └── unfertile\n",
            "└── valid\n",
            "    ├── fertile\n",
            "    └── unfertile\n"
          ]
        }
      ],
      "source": [
        "import os\n",
        "\n",
        "def print_folder_tree(startpath, prefix=\"\"):\n",
        "    items = sorted(os.listdir(startpath))\n",
        "    dirs = [item for item in items if os.path.isdir(os.path.join(startpath, item))]\n",
        "    pointers = ['├── '] * (len(dirs) - 1) + ['└── ']\n",
        "\n",
        "    for pointer, folder in zip(pointers, dirs):\n",
        "        path = os.path.join(startpath, folder)\n",
        "        print(prefix + pointer + folder)\n",
        "        extension = '│   ' if pointer == '├── ' else '    '\n",
        "        print_folder_tree(path, prefix + extension)\n",
        "\n",
        "root_dir = \"./dataset\"\n",
        "print(root_dir)\n",
        "print_folder_tree(root_dir)\n"
      ]
    },
    {
      "cell_type": "markdown",
      "metadata": {
        "id": "TIBwOUsdUJcP"
      },
      "source": [
        "**🔹 Step 1: Import Library**\n",
        "\n",
        "*Import semua library yang diperlukan untuk membangun, melatih, dan mengevaluasi model klasifikasi, termasuk TensorFlow, Keras, sklearn, matplotlib, dan lainnya.*"
      ]
    },
    {
      "cell_type": "code",
      "execution_count": 3,
      "metadata": {
        "id": "3Q7CFEtmMa3x"
      },
      "outputs": [],
      "source": [
        "import tensorflow as tf\n",
        "from tensorflow.keras.preprocessing.image import ImageDataGenerator\n",
        "from tensorflow.keras import layers, models\n",
        "from tensorflow.keras.callbacks import EarlyStopping, ModelCheckpoint\n",
        "from sklearn.metrics import confusion_matrix, classification_report, roc_curve, auc\n",
        "import matplotlib.pyplot as plt\n",
        "import os\n",
        "import numpy as np\n"
      ]
    },
    {
      "cell_type": "markdown",
      "metadata": {
        "id": "NVZXtoXWUS-O"
      },
      "source": [
        "**🔹 Step 2: Menentukan Path Dataset**\n",
        "\n",
        "*Tentukan direktori untuk dataset train, validasi, dan test yang sudah disiapkan dan dipisahkan sebelumnya.*\n",
        "\n"
      ]
    },
    {
      "cell_type": "code",
      "execution_count": 4,
      "metadata": {
        "id": "p5UfQxCHMiV7"
      },
      "outputs": [],
      "source": [
        "# Step 2: Set Dataset Path\n",
        "base_dir = \"./dataset\"\n",
        "\n",
        "train_dir = os.path.join(base_dir, \"train\")\n",
        "valid_dir = os.path.join(base_dir, \"valid\")\n",
        "test_dir = os.path.join(base_dir, \"test\")"
      ]
    },
    {
      "cell_type": "markdown",
      "metadata": {
        "id": "RvXwo9HKUj64"
      },
      "source": [
        "**🔹 Step 3: Preprocessing Data**\n",
        "\n",
        "*Melakukan normalisasi dengan rescale=1./255 untuk semua subset data. Dataset sudah memiliki augmentasi sebelumnya, sehingga tidak ditambahkan lagi di sini.*"
      ]
    },
    {
      "cell_type": "code",
      "execution_count": 5,
      "metadata": {
        "colab": {
          "base_uri": "https://localhost:8080/"
        },
        "id": "JyM4w-_UMsK4",
        "outputId": "c72fe1fb-ccdb-4b8e-c470-dfbb153fd614"
      },
      "outputs": [
        {
          "name": "stdout",
          "output_type": "stream",
          "text": [
            "Found 1362 images belonging to 2 classes.\n",
            "Found 51 images belonging to 2 classes.\n",
            "Found 50 images belonging to 2 classes.\n"
          ]
        }
      ],
      "source": [
        "# Step 3: Data Preprocessing\n",
        "# Augmentasi sudah diterapkan di dataset, hanya rescale untuk normalisasi\n",
        "train_datagen = ImageDataGenerator(rescale=1.0/255)\n",
        "valid_datagen = ImageDataGenerator(rescale=1.0/255)\n",
        "test_datagen = ImageDataGenerator(rescale=1.0/255)\n",
        "\n",
        "train_generator = train_datagen.flow_from_directory(\n",
        "    train_dir,\n",
        "    target_size=(150, 150),\n",
        "    batch_size=32,\n",
        "    class_mode='binary'\n",
        ")\n",
        "\n",
        "valid_generator = valid_datagen.flow_from_directory(\n",
        "    valid_dir,\n",
        "    target_size=(150, 150),\n",
        "    batch_size=32,\n",
        "    class_mode='binary'\n",
        ")\n",
        "\n",
        "test_generator = test_datagen.flow_from_directory(\n",
        "    test_dir,\n",
        "    target_size=(150, 150),\n",
        "    batch_size=32,\n",
        "    class_mode='binary',\n",
        "    shuffle=False\n",
        ")"
      ]
    },
    {
      "cell_type": "code",
      "execution_count": 6,
      "metadata": {},
      "outputs": [
        {
          "name": "stdout",
          "output_type": "stream",
          "text": [
            "INFO:tensorflow:Assets written to: C:\\Users\\T0MM11Y\\AppData\\Local\\Temp\\tmp3eythxqk\\assets\n"
          ]
        },
        {
          "name": "stderr",
          "output_type": "stream",
          "text": [
            "INFO:tensorflow:Assets written to: C:\\Users\\T0MM11Y\\AppData\\Local\\Temp\\tmp3eythxqk\\assets\n"
          ]
        }
      ],
      "source": [
        "import tensorflow as tf\n",
        "\n",
        "# Load the Keras model\n",
        "model = tf.keras.models.load_model(\"best_model.h5\")\n",
        "\n",
        "# Convert the model to TensorFlow Lite format\n",
        "converter = tf.lite.TFLiteConverter.from_keras_model(model)\n",
        "tflite_model = converter.convert()\n",
        "\n",
        "# Save the converted model\n",
        "with open(\"final_model.tflite\", \"wb\") as f:\n",
        "    f.write(tflite_model)"
      ]
    },
    {
      "cell_type": "markdown",
      "metadata": {
        "id": "_Yvys2tDUrWv"
      },
      "source": [
        "**🔹 Step 4: Membangun Model CNN **\n",
        "\n",
        "*Membangun arsitektur CNN dengan 3 blok konvolusi dan 1 lapisan Dense, serta Dropout dan Regularization untuk mencegah overfitting.*"
      ]
    },
    {
      "cell_type": "code",
      "execution_count": 7,
      "metadata": {
        "id": "tKr7kUmoDzxF"
      },
      "outputs": [
        {
          "name": "stdout",
          "output_type": "stream",
          "text": [
            "Model: \"sequential\"\n",
            "_________________________________________________________________\n",
            " Layer (type)                Output Shape              Param #   \n",
            "=================================================================\n",
            " conv2d (Conv2D)             (None, 148, 148, 32)      896       \n",
            "                                                                 \n",
            " max_pooling2d (MaxPooling2  (None, 74, 74, 32)        0         \n",
            " D)                                                              \n",
            "                                                                 \n",
            " conv2d_1 (Conv2D)           (None, 72, 72, 64)        18496     \n",
            "                                                                 \n",
            " max_pooling2d_1 (MaxPoolin  (None, 36, 36, 64)        0         \n",
            " g2D)                                                            \n",
            "                                                                 \n",
            " conv2d_2 (Conv2D)           (None, 34, 34, 128)       73856     \n",
            "                                                                 \n",
            " max_pooling2d_2 (MaxPoolin  (None, 17, 17, 128)       0         \n",
            " g2D)                                                            \n",
            "                                                                 \n",
            " flatten (Flatten)           (None, 36992)             0         \n",
            "                                                                 \n",
            " dense (Dense)               (None, 128)               4735104   \n",
            "                                                                 \n",
            " dropout (Dropout)           (None, 128)               0         \n",
            "                                                                 \n",
            " dense_1 (Dense)             (None, 1)                 129       \n",
            "                                                                 \n",
            "=================================================================\n",
            "Total params: 4828481 (18.42 MB)\n",
            "Trainable params: 4828481 (18.42 MB)\n",
            "Non-trainable params: 0 (0.00 Byte)\n",
            "_________________________________________________________________\n"
          ]
        }
      ],
      "source": [
        "# Step 4: Build CNN Model\n",
        "model = models.Sequential([\n",
        "    # Convolutional Block 1\n",
        "    layers.Conv2D(32, (3, 3), activation='relu', input_shape=(150, 150, 3)),\n",
        "    layers.MaxPooling2D((2, 2)),\n",
        "\n",
        "    # Convolutional Block 2\n",
        "    layers.Conv2D(64, (3, 3), activation='relu'),\n",
        "    layers.MaxPooling2D((2, 2)),\n",
        "\n",
        "    # Convolutional Block 3\n",
        "    layers.Conv2D(128, (3, 3), activation='relu'),\n",
        "    layers.MaxPooling2D((2, 2)),\n",
        "\n",
        "    # Fully Connected Layers\n",
        "    layers.Flatten(),\n",
        "    layers.Dense(128, kernel_regularizer=tf.keras.regularizers.l2(0.01), activation='relu'),\n",
        "    layers.Dropout(0.5),  # Dropout to reduce overfitting\n",
        "    layers.Dense(1, activation='sigmoid')  # Binary classification: fertile/unfertile\n",
        "])\n",
        "model.summary()"
      ]
    },
    {
      "cell_type": "markdown",
      "metadata": {
        "id": "Na89jU4kU0te"
      },
      "source": [
        "**🔹 Step 5: Kompilasi Model**\n",
        "\n",
        "*Mengkompilasi model dengan optimizer Adam dan loss function binary_crossentropy, karena ini adalah kasus klasifikasi biner.*"
      ]
    },
    {
      "cell_type": "code",
      "execution_count": 28,
      "metadata": {
        "id": "o3cAgcL0NeWp"
      },
      "outputs": [],
      "source": [
        "# Step 5: Compile the Model\n",
        "model.compile(optimizer='adam', loss='binary_crossentropy', metrics=['accuracy'])\n"
      ]
    },
    {
      "cell_type": "markdown",
      "metadata": {
        "id": "2sAqh4oqU9mk"
      },
      "source": [
        "**🔹 Step 6: Menentukan Callback**\n",
        "\n",
        "*Menambahkan EarlyStopping dan ModelCheckpoint untuk menghentikan pelatihan dini jika model tidak membaik dan menyimpan model terbaik berdasarkan val_loss.*"
      ]
    },
    {
      "cell_type": "code",
      "execution_count": 29,
      "metadata": {},
      "outputs": [],
      "source": [
        "# Tambahkan EarlyStopping untuk menghentikan pelatihan lebih awal jika tidak ada peningkatan\n",
        "early_stopping = EarlyStopping(monitor='val_loss', patience=5, restore_best_weights=True)\n",
        "\n",
        "# ModelCheckpoint untuk menyimpan model terbaik berdasarkan val_loss\n",
        "checkpoint = ModelCheckpoint(\n",
        "    './model/best_model.h5',  # Gunakan format .keras untuk penyimpanan modern\n",
        "    monitor='val_loss',\n",
        "    save_best_only=True,\n",
        "    mode='min'\n",
        ")"
      ]
    },
    {
      "cell_type": "markdown",
      "metadata": {},
      "source": [
        "**ConvertToTFlite**"
      ]
    },
    {
      "cell_type": "code",
      "execution_count": 31,
      "metadata": {},
      "outputs": [
        {
          "name": "stdout",
          "output_type": "stream",
          "text": [
            "INFO:tensorflow:Assets written to: C:\\Users\\T0MM11Y\\AppData\\Local\\Temp\\tmpmrnken5q\\assets\n"
          ]
        },
        {
          "name": "stderr",
          "output_type": "stream",
          "text": [
            "INFO:tensorflow:Assets written to: C:\\Users\\T0MM11Y\\AppData\\Local\\Temp\\tmpmrnken5q\\assets\n"
          ]
        },
        {
          "name": "stdout",
          "output_type": "stream",
          "text": [
            "Model berhasil dikonversi ke format TFLite dan disimpan sebagai 'best_model.tflite'\n"
          ]
        }
      ],
      "source": [
        "import tensorflow as tf\n",
        "\n",
        "# Muat model Keras terbaik\n",
        "model = tf.keras.models.load_model('./model/best_model.h5')\n",
        "\n",
        "# Konversi model ke format TensorFlow Lite\n",
        "converter = tf.lite.TFLiteConverter.from_keras_model(model)\n",
        "tflite_model = converter.convert()\n",
        "\n",
        "# Simpan model TFLite ke file\n",
        "with open('best_model.tflite', 'wb') as f:\n",
        "    f.write(tflite_model)\n",
        "\n",
        "print(\"Model berhasil dikonversi ke format TFLite dan disimpan sebagai 'best_model.tflite'\")"
      ]
    },
    {
      "cell_type": "markdown",
      "metadata": {
        "id": "Z0MPQ5grVGvo"
      },
      "source": [
        "**🔹 Step 7: Melatih Model**\n",
        "\n",
        "*Melatih model pada data train dan validasi selama maksimal 20 epoch, dengan callback diterapkan. Proses ini akan menampilkan metrik akurasi dan loss setiap epoch.*"
      ]
    },
    {
      "cell_type": "code",
      "execution_count": 30,
      "metadata": {
        "colab": {
          "base_uri": "https://localhost:8080/"
        },
        "id": "cL5FzgAELJ0n",
        "outputId": "0855e537-41f6-4fd7-97e7-51c2637c3d65"
      },
      "outputs": [
        {
          "name": "stdout",
          "output_type": "stream",
          "text": [
            "Epoch 1/20\n",
            "43/43 [==============================] - 48s 1s/step - loss: 1.1114 - accuracy: 0.7327 - val_loss: 0.6101 - val_accuracy: 0.8039\n",
            "Epoch 2/20\n",
            "43/43 [==============================] - 46s 1s/step - loss: 0.4762 - accuracy: 0.8583 - val_loss: 0.5036 - val_accuracy: 0.8431\n",
            "Epoch 3/20\n",
            "43/43 [==============================] - 46s 1s/step - loss: 0.3769 - accuracy: 0.9023 - val_loss: 0.4177 - val_accuracy: 0.8627\n",
            "Epoch 4/20\n",
            "43/43 [==============================] - 46s 1s/step - loss: 0.3727 - accuracy: 0.9163 - val_loss: 0.3309 - val_accuracy: 0.9216\n",
            "Epoch 5/20\n",
            "43/43 [==============================] - 48s 1s/step - loss: 0.2862 - accuracy: 0.9435 - val_loss: 0.2129 - val_accuracy: 1.0000\n",
            "Epoch 6/20\n",
            "43/43 [==============================] - 47s 1s/step - loss: 0.2211 - accuracy: 0.9655 - val_loss: 0.2251 - val_accuracy: 0.9412\n",
            "Epoch 7/20\n",
            "43/43 [==============================] - 48s 1s/step - loss: 0.2080 - accuracy: 0.9692 - val_loss: 0.3764 - val_accuracy: 0.9020\n",
            "Epoch 8/20\n",
            "43/43 [==============================] - 46s 1s/step - loss: 0.2275 - accuracy: 0.9611 - val_loss: 0.2138 - val_accuracy: 0.9804\n",
            "Epoch 9/20\n",
            "43/43 [==============================] - 46s 1s/step - loss: 0.1911 - accuracy: 0.9743 - val_loss: 0.2156 - val_accuracy: 0.9804\n",
            "Epoch 10/20\n",
            "43/43 [==============================] - 46s 1s/step - loss: 0.1758 - accuracy: 0.9794 - val_loss: 0.2244 - val_accuracy: 0.9608\n"
          ]
        }
      ],
      "source": [
        "# Tambahkan callbacks ke dalam proses pelatihan\n",
        "callbacks = [early_stopping, checkpoint]\n",
        "\n",
        "# Step 7: Train the Model\n",
        "history = model.fit(\n",
        "    train_generator,\n",
        "    validation_data=valid_generator,\n",
        "    epochs=20,\n",
        "    callbacks=[early_stopping, checkpoint]\n",
        ")"
      ]
    },
    {
      "cell_type": "markdown",
      "metadata": {
        "id": "C2CLJowCVOTc"
      },
      "source": [
        "**🔹 Step 8: Evaluasi Model pada Data Uji**\n",
        "\n",
        "*Menghitung akurasi dan loss model terhadap dataset pengujian untuk mengetahui performa generalisasi model.*"
      ]
    },
    {
      "cell_type": "code",
      "execution_count": null,
      "metadata": {
        "colab": {
          "base_uri": "https://localhost:8080/"
        },
        "id": "BFsQimKILMAa",
        "outputId": "126c2804-36d8-4396-d31d-c2fe30039e98"
      },
      "outputs": [
        {
          "name": "stdout",
          "output_type": "stream",
          "text": [
            "\u001b[1m2/2\u001b[0m \u001b[32m━━━━━━━━━━━━━━━━━━━━\u001b[0m\u001b[37m\u001b[0m \u001b[1m0s\u001b[0m 85ms/step - accuracy: 0.9629 - loss: 0.1645\n",
            "Test Accuracy: 96.00%\n",
            "Test Loss: 0.1730\n"
          ]
        }
      ],
      "source": [
        "# Step 8: Evaluate Model on Test Dataset\n",
        "test_loss, test_accuracy = model.evaluate(test_generator)\n",
        "print(f\"Test Accuracy: {test_accuracy * 100:.2f}%\")\n",
        "print(f\"Test Loss: {test_loss:.4f}\")"
      ]
    },
    {
      "cell_type": "markdown",
      "metadata": {
        "id": "P04rAjsAVS68"
      },
      "source": [
        "**🔹 Step 9: Membuat Confusion Matrix**\n",
        "\n",
        "*Menghitung dan memvisualisasikan confusion matrix dari hasil prediksi untuk mengevaluasi performa klasifikasi secara lebih rinci.*"
      ]
    },
    {
      "cell_type": "code",
      "execution_count": null,
      "metadata": {
        "colab": {
          "base_uri": "https://localhost:8080/",
          "height": 681
        },
        "id": "Zais4AXFLOzs",
        "outputId": "7ffa9851-01fe-4f78-ddcf-074fef12fb16"
      },
      "outputs": [
        {
          "name": "stdout",
          "output_type": "stream",
          "text": [
            "\u001b[1m2/2\u001b[0m \u001b[32m━━━━━━━━━━━━━━━━━━━━\u001b[0m\u001b[37m\u001b[0m \u001b[1m1s\u001b[0m 320ms/step\n",
            "Confusion Matrix:\n",
            "[[22  1]\n",
            " [ 1 26]]\n"
          ]
        },
        {
          "data": {
            "image/png": "[encoded data removed]",
            "text/plain": [
              "<Figure size 800x600 with 2 Axes>"
            ]
          },
          "metadata": {},
          "output_type": "display_data"
        }
      ],
      "source": [
        "# Step 9: Confusion Matrix\n",
        "# Predict labels on the test dataset\n",
        "Y_pred = model.predict(test_generator)\n",
        "y_pred = (Y_pred > 0.5).astype(int)  # Convert probabilities to binary classes\n",
        "\n",
        "# Generate confusion matrix\n",
        "conf_matrix = confusion_matrix(test_generator.classes, y_pred)\n",
        "\n",
        "print(\"Confusion Matrix:\")\n",
        "print(conf_matrix)\n",
        "\n",
        "# Visualize confusion matrix\n",
        "plt.figure(figsize=(8, 6))\n",
        "plt.imshow(conf_matrix, interpolation='nearest', cmap=plt.cm.Blues)\n",
        "plt.title(\"Confusion Matrix\")\n",
        "plt.colorbar()\n",
        "tick_marks = np.arange(2)\n",
        "plt.xticks(tick_marks, ['Unfertile', 'Fertile'], rotation=45)\n",
        "plt.yticks(tick_marks, ['Unfertile', 'Fertile'])\n",
        "plt.ylabel('True Label')\n",
        "plt.xlabel('Predicted Label')\n",
        "\n",
        "# Annotate confusion matrix\n",
        "thresh = conf_matrix.max() / 2.0\n",
        "for i, j in np.ndindex(conf_matrix.shape):\n",
        "    plt.text(j, i, f'{conf_matrix[i, j]}', horizontalalignment=\"center\",\n",
        "             color=\"white\" if conf_matrix[i, j] > thresh else \"black\")\n",
        "\n",
        "plt.tight_layout()\n",
        "plt.show()\n"
      ]
    },
    {
      "cell_type": "markdown",
      "metadata": {
        "id": "GIHwHPIDVa6g"
      },
      "source": [
        "**🔹 Step 10: Menampilkan Classification Report**\n",
        "\n",
        "*Menampilkan metrik evaluasi model seperti precision, recall, dan f1-score untuk masing-masing kelas (fertile dan unfertile).*"
      ]
    },
    {
      "cell_type": "code",
      "execution_count": null,
      "metadata": {
        "colab": {
          "base_uri": "https://localhost:8080/"
        },
        "id": "jvc_l98MLSHx",
        "outputId": "0b580f10-5a43-4319-c6bc-e96f124614c3"
      },
      "outputs": [
        {
          "name": "stdout",
          "output_type": "stream",
          "text": [
            "Classification Report:\n",
            "              precision    recall  f1-score   support\n",
            "\n",
            "   Unfertile       0.96      0.96      0.96        23\n",
            "     Fertile       0.96      0.96      0.96        27\n",
            "\n",
            "    accuracy                           0.96        50\n",
            "   macro avg       0.96      0.96      0.96        50\n",
            "weighted avg       0.96      0.96      0.96        50\n",
            "\n"
          ]
        }
      ],
      "source": [
        "# Step 10: Classification Report\n",
        "print(\"Classification Report:\")\n",
        "print(classification_report(test_generator.classes, y_pred, target_names=['Unfertile', 'Fertile']))\n"
      ]
    },
    {
      "cell_type": "markdown",
      "metadata": {
        "id": "pBdEzCRtVj0z"
      },
      "source": [
        "**🔹 Step 11: Plot ROC Curve**\n",
        "\n",
        "*Menggambar ROC Curve dan menghitung AUC untuk mengukur kinerja klasifikasi secara keseluruhan.*"
      ]
    },
    {
      "cell_type": "code",
      "execution_count": null,
      "metadata": {
        "colab": {
          "base_uri": "https://localhost:8080/",
          "height": 564
        },
        "id": "bxshyBl_RxkX",
        "outputId": "3d810e02-030f-4766-8f4b-3b9594d32893"
      },
      "outputs": [
        {
          "data": {
            "image/png": "[encoded data removed]",
            "text/plain": [
              "<Figure size 800x600 with 1 Axes>"
            ]
          },
          "metadata": {},
          "output_type": "display_data"
        }
      ],
      "source": [
        "# Step 11: ROC Curve\n",
        "fpr, tpr, _ = roc_curve(test_generator.classes, Y_pred)\n",
        "roc_auc = auc(fpr, tpr)\n",
        "\n",
        "plt.figure(figsize=(8, 6))\n",
        "plt.plot(fpr, tpr, color='darkorange', lw=2, label=f'ROC curve (AUC = {roc_auc:.2f})')\n",
        "plt.plot([0, 1], [0, 1], color='navy', lw=2, linestyle='--')\n",
        "plt.xlabel('False Positive Rate')\n",
        "plt.ylabel('True Positive Rate')\n",
        "plt.title('Receiver Operating Characteristic (ROC) Curve')\n",
        "plt.legend(loc=\"lower right\")\n",
        "plt.show()"
      ]
    },
    {
      "cell_type": "markdown",
      "metadata": {
        "id": "TowB03ZBVqqB"
      },
      "source": [
        "**🔹 Step 12: Menyimpan Model dalam Format Keras**\n",
        "\n",
        "*Menyimpan model terlatih dalam format .keras yang direkomendasikan oleh TensorFlow untuk digunakan atau diekspor di masa depan.*\n"
      ]
    },
    {
      "cell_type": "code",
      "execution_count": 3,
      "metadata": {
        "colab": {
          "base_uri": "https://localhost:8080/"
        },
        "id": "j5ANFdH-R6gC",
        "outputId": "67b09d05-4281-4a4b-fdbe-d1c55b5ab2ec"
      },
      "outputs": [
        {
          "name": "stdout",
          "output_type": "stream",
          "text": [
            "Model saved to /content/drive/MyDrive/ColabNotebooks/EggClassification~11/models/final_model.keras\n"
          ]
        },
        {
          "name": "stderr",
          "output_type": "stream",
          "text": [
            "/usr/local/lib/python3.11/dist-packages/keras/src/saving/saving_api.py:107: UserWarning: You are saving a model that has not yet been built. It might not contain any weights yet. Consider building the model first by calling it on some data.\n",
            "  return saving_lib.save_model(model, filepath)\n"
          ]
        }
      ],
      "source": [
        "# Step 12: Save Model in Keras Native Format\n",
        "model.save('/content/drive/MyDrive/ColabNotebooks/EggClassification~11/models/final_model.keras')\n",
        "print(\"Model saved to /content/drive/MyDrive/ColabNotebooks/EggClassification~11/models/final_model.keras\")"
      ]
    }
  ],
  "metadata": {
    "colab": {
      "provenance": []
    },
    "kernelspec": {
      "display_name": "Python 3",
      "name": "python3"
    },
    "language_info": {
      "codemirror_mode": {
        "name": "ipython",
        "version": 3
      },
      "file_extension": ".py",
      "mimetype": "text/x-python",
      "name": "python",
      "nbconvert_exporter": "python",
      "pygments_lexer": "ipython3",
      "version": "3.8.0"
    }
  },
  "nbformat": 4,
  "nbformat_minor": 0
}
